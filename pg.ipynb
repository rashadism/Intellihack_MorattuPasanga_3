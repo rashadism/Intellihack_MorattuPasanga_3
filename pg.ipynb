{
 "cells": [
  {
   "cell_type": "code",
   "execution_count": 2,
   "metadata": {
    "ExecuteTime": {
     "end_time": "2024-05-04T09:53:22.079297Z",
     "start_time": "2024-05-04T09:53:22.062256Z"
    }
   },
   "outputs": [],
   "source": [
    "import os\n",
    "from dotenv import load_dotenv\n",
    "\n",
    "import streamlit as st\n",
    "\n",
    "from langchain_groq import ChatGroq\n",
    "from langchain_core.prompts import ChatPromptTemplate\n",
    "from langchain_core.output_parsers import StrOutputParser"
   ]
  },
  {
   "cell_type": "code",
   "execution_count": 7,
   "metadata": {
    "ExecuteTime": {
     "end_time": "2024-05-04T10:04:20.728577Z",
     "start_time": "2024-05-04T10:04:20.717588Z"
    }
   },
   "outputs": [],
   "source": [
    "load_dotenv()\n",
    "GROQ_API_KEY=\"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\""
   ]
  },
  {
   "cell_type": "code",
   "execution_count": 8,
   "metadata": {
    "ExecuteTime": {
     "end_time": "2024-05-04T10:04:36.576328Z",
     "start_time": "2024-05-04T10:04:23.611631Z"
    }
   },
   "outputs": [],
   "source": [
    "prompt=ChatPromptTemplate.from_messages(\n",
    "    [\n",
    "        (\"system\",\"You are an assistant who gives information on bank loans. Please answer the questions\"),\n",
    "        (\"user\",\"Question:{question}\")\n",
    "    ]\n",
    ")"
   ]
  },
  {
   "cell_type": "code",
   "execution_count": 11,
   "metadata": {
    "ExecuteTime": {
     "end_time": "2024-05-04T10:06:09.353512Z",
     "start_time": "2024-05-04T10:05:56.999093Z"
    }
   },
   "outputs": [],
   "source": [
    "llm=ChatGroq(model=\"llama3-70b-8192\",groq_api_key=GROQ_API_KEY)\n"
   ]
  },
  {
   "cell_type": "code",
   "execution_count": 12,
   "metadata": {
    "ExecuteTime": {
     "end_time": "2024-05-04T10:06:24.178755Z",
     "start_time": "2024-05-04T10:06:24.170332Z"
    }
   },
   "outputs": [],
   "source": [
    "output_parser=StrOutputParser()\n",
    "chain=prompt|llm|output_parser"
   ]
  },
  {
   "cell_type": "code",
   "execution_count": 13,
   "metadata": {
    "ExecuteTime": {
     "end_time": "2024-05-04T10:06:40.730318Z",
     "start_time": "2024-05-04T10:06:26.972231Z"
    }
   },
   "outputs": [
    {
     "data": {
      "text/plain": "\"Hello! I'm happy to help with any questions you have about bank loans. What would you like to know? Are you looking to apply for a loan, or do you have questions about a specific type of loan?\""
     },
     "execution_count": 13,
     "metadata": {},
     "output_type": "execute_result"
    }
   ],
   "source": [
    "input_text=\"Hi\"\n",
    "chain.invoke({'question':input_text})"
   ]
  },
  {
   "cell_type": "code",
   "execution_count": null,
   "metadata": {},
   "outputs": [],
   "source": []
  }
 ],
 "metadata": {
  "kernelspec": {
   "display_name": "Python 3",
   "language": "python",
   "name": "python3"
  },
  "language_info": {
   "codemirror_mode": {
    "name": "ipython",
    "version": 3
   },
   "file_extension": ".py",
   "mimetype": "text/x-python",
   "name": "python",
   "nbconvert_exporter": "python",
   "pygments_lexer": "ipython3",
   "version": "3.12.3"
  }
 },
 "nbformat": 4,
 "nbformat_minor": 2
}
